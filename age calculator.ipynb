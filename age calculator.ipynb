{
 "cells": [
  {
   "cell_type": "code",
   "execution_count": 4,
   "id": "7d4f490c-b4f6-4d66-93f6-c23c7513317c",
   "metadata": {},
   "outputs": [
    {
     "name": "stdin",
     "output_type": "stream",
     "text": [
      "enter your current age:  11\n",
      "enter your future age:  90\n"
     ]
    },
    {
     "name": "stdout",
     "output_type": "stream",
     "text": [
      "Your remaining age in years is:79\n",
      "Your remaining age in months is:948\n",
      "Your remaining age in weeks is:4108\n",
      "Your remaining age in days is:28835\n"
     ]
    }
   ],
   "source": [
    "user_age = int(input(\"enter your current age: \"))\n",
    "future_age = int(input(\"enter your future age: \"))\n",
    "remaining_age = future_age - user_age\n",
    "age_months = remaining_age * 12\n",
    "age_weeks = remaining_age * 52\n",
    "age_dayes = remaining_age * 365\n",
    "\n",
    "print (\"Your remaining age in years is:\" + str(remaining_age) + \"\\nYour remaining age in months is:\" + str(age_months) + \"\\nYour remaining age in weeks is:\"+ str(age_weeks) +\"\\nYour remaining age in days is:\" + str(age_dayes)) "
   ]
  },
  {
   "cell_type": "code",
   "execution_count": null,
   "id": "e6615100-2356-4a4f-b325-667fe03fc5b5",
   "metadata": {},
   "outputs": [],
   "source": []
  }
 ],
 "metadata": {
  "kernelspec": {
   "display_name": "Python 3 (ipykernel)",
   "language": "python",
   "name": "python3"
  },
  "language_info": {
   "codemirror_mode": {
    "name": "ipython",
    "version": 3
   },
   "file_extension": ".py",
   "mimetype": "text/x-python",
   "name": "python",
   "nbconvert_exporter": "python",
   "pygments_lexer": "ipython3",
   "version": "3.11.4"
  }
 },
 "nbformat": 4,
 "nbformat_minor": 5
}
